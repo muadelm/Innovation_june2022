{
 "cells": [
  {
   "cell_type": "markdown",
   "metadata": {},
   "source": [
    "> **Tip**: Welcome to the Investigate a Dataset project! You will find tips in quoted sections like this to help organize your approach to your investigation. Before submitting your project, it will be a good idea to go back through your report and remove these sections to make the presentation of your work as tidy as possible. First things first, you might want to double-click this Markdown cell and change the title so that it reflects your dataset and investigation.\n",
    "\n",
    "# Project: Investigate a Dataset (Replace this with something more specific!)\n",
    "\n",
    "## Table of Contents\n",
    "<ul>\n",
    "<li><a href=\"#intro\">Introduction</a></li>\n",
    "<li><a href=\"#wrangling\">Data Wrangling</a></li>\n",
    "<li><a href=\"#eda\">Exploratory Data Analysis</a></li>\n",
    "<li><a href=\"#conclusions\">Conclusions</a></li>\n",
    "</ul>"
   ]
  },
  {
   "cell_type": "code",
   "execution_count": 1,
   "metadata": {},
   "outputs": [],
   "source": [
    "import pandas as pd \n",
    "import matplotlib.pyplot as plt\n",
    "import seaborn as sns \n",
    "import missingno as msno\n"
   ]
  },
  {
   "cell_type": "markdown",
   "metadata": {},
   "source": [
    "<a id='wrangling'></a>\n",
    "## Data Wrangling\n",
    "\n",
    "> **Tip**: In this section of the report, you will load in the data, check for cleanliness, and then trim and clean your dataset for analysis. Make sure that you document your steps carefully and justify your cleaning decisions.\n",
    "\n",
    "### General Properties"
   ]
  },
  {
   "cell_type": "code",
   "execution_count": 2,
   "metadata": {
    "collapsed": true
   },
   "outputs": [],
   "source": [
    "df = pd.read_excel('Innovation_data_economy_2022.xlsx')\n"
   ]
  },
  {
   "cell_type": "code",
   "execution_count": 4,
   "metadata": {},
   "outputs": [
    {
     "data": {
      "text/html": [
       "<div>\n",
       "<style scoped>\n",
       "    .dataframe tbody tr th:only-of-type {\n",
       "        vertical-align: middle;\n",
       "    }\n",
       "\n",
       "    .dataframe tbody tr th {\n",
       "        vertical-align: top;\n",
       "    }\n",
       "\n",
       "    .dataframe thead th {\n",
       "        text-align: right;\n",
       "    }\n",
       "</style>\n",
       "<table border=\"1\" class=\"dataframe\">\n",
       "  <thead>\n",
       "    <tr style=\"text-align: right;\">\n",
       "      <th></th>\n",
       "      <th>countrycode</th>\n",
       "      <th>country</th>\n",
       "      <th>year</th>\n",
       "      <th>GDP per capita (current US$)</th>\n",
       "      <th>GNI (current US$)</th>\n",
       "      <th>CO2 emissions (metric tons per capita)</th>\n",
       "      <th>HDI</th>\n",
       "      <th>GII (SCORE)</th>\n",
       "    </tr>\n",
       "  </thead>\n",
       "  <tbody>\n",
       "    <tr>\n",
       "      <th>0</th>\n",
       "      <td>ALB</td>\n",
       "      <td>Albania</td>\n",
       "      <td>2013</td>\n",
       "      <td>4413.062005</td>\n",
       "      <td>1.299654e+10</td>\n",
       "      <td>1.533630</td>\n",
       "      <td>0.782</td>\n",
       "      <td>30.9</td>\n",
       "    </tr>\n",
       "    <tr>\n",
       "      <th>1</th>\n",
       "      <td>ALB</td>\n",
       "      <td>Albania</td>\n",
       "      <td>2014</td>\n",
       "      <td>4578.633208</td>\n",
       "      <td>1.334942e+10</td>\n",
       "      <td>1.668337</td>\n",
       "      <td>0.787</td>\n",
       "      <td>30.5</td>\n",
       "    </tr>\n",
       "    <tr>\n",
       "      <th>2</th>\n",
       "      <td>ALB</td>\n",
       "      <td>Albania</td>\n",
       "      <td>2015</td>\n",
       "      <td>3952.802538</td>\n",
       "      <td>1.152181e+10</td>\n",
       "      <td>1.603775</td>\n",
       "      <td>0.788</td>\n",
       "      <td>30.7</td>\n",
       "    </tr>\n",
       "    <tr>\n",
       "      <th>3</th>\n",
       "      <td>ALB</td>\n",
       "      <td>Albania</td>\n",
       "      <td>2016</td>\n",
       "      <td>4124.055390</td>\n",
       "      <td>1.205383e+10</td>\n",
       "      <td>1.557664</td>\n",
       "      <td>0.788</td>\n",
       "      <td>28.4</td>\n",
       "    </tr>\n",
       "    <tr>\n",
       "      <th>4</th>\n",
       "      <td>ALB</td>\n",
       "      <td>Albania</td>\n",
       "      <td>2017</td>\n",
       "      <td>4531.019374</td>\n",
       "      <td>1.305148e+10</td>\n",
       "      <td>1.788786</td>\n",
       "      <td>0.790</td>\n",
       "      <td>28.9</td>\n",
       "    </tr>\n",
       "  </tbody>\n",
       "</table>\n",
       "</div>"
      ],
      "text/plain": [
       "  countrycode  country  year  GDP per capita (current US$)  GNI (current US$)  \\\n",
       "0         ALB  Albania  2013                   4413.062005       1.299654e+10   \n",
       "1         ALB  Albania  2014                   4578.633208       1.334942e+10   \n",
       "2         ALB  Albania  2015                   3952.802538       1.152181e+10   \n",
       "3         ALB  Albania  2016                   4124.055390       1.205383e+10   \n",
       "4         ALB  Albania  2017                   4531.019374       1.305148e+10   \n",
       "\n",
       "   CO2 emissions (metric tons per capita)    HDI  GII (SCORE)  \n",
       "0                                1.533630  0.782         30.9  \n",
       "1                                1.668337  0.787         30.5  \n",
       "2                                1.603775  0.788         30.7  \n",
       "3                                1.557664  0.788         28.4  \n",
       "4                                1.788786  0.790         28.9  "
      ]
     },
     "execution_count": 4,
     "metadata": {},
     "output_type": "execute_result"
    }
   ],
   "source": [
    "df.head()"
   ]
  },
  {
   "cell_type": "markdown",
   "metadata": {},
   "source": [
    "> **Tip**: You should _not_ perform too many operations in each cell. Create cells freely to explore your data. One option that you can take with this project is to do a lot of explorations in an initial notebook. These don't have to be organized, but make sure you use enough comments to understand the purpose of each code cell. Then, after you're done with your analysis, create a duplicate notebook where you will trim the excess and organize your steps so that you have a flowing, cohesive report.\n",
    "\n",
    "> **Tip**: Make sure that you keep your reader informed on the steps that you are taking in your investigation. Follow every code cell, or every set of related code cells, with a markdown cell to describe to the reader what was found in the preceding cell(s). Try to make it so that the reader can then understand what they will be seeing in the following cell(s).\n",
    "\n",
    "### Data Cleaning "
   ]
  },
  {
   "cell_type": "code",
   "execution_count": 5,
   "metadata": {
    "collapsed": true
   },
   "outputs": [
    {
     "data": {
      "text/plain": [
       "(1287, 8)"
      ]
     },
     "execution_count": 5,
     "metadata": {},
     "output_type": "execute_result"
    }
   ],
   "source": [
    "df.shape"
   ]
  },
  {
   "cell_type": "code",
   "execution_count": 6,
   "metadata": {},
   "outputs": [
    {
     "name": "stdout",
     "output_type": "stream",
     "text": [
      "<class 'pandas.core.frame.DataFrame'>\n",
      "RangeIndex: 1287 entries, 0 to 1286\n",
      "Data columns (total 8 columns):\n",
      " #   Column                                  Non-Null Count  Dtype  \n",
      "---  ------                                  --------------  -----  \n",
      " 0   countrycode                             1287 non-null   object \n",
      " 1   country                                 1287 non-null   object \n",
      " 2   year                                    1287 non-null   int64  \n",
      " 3   GDP per capita (current US$)            1280 non-null   float64\n",
      " 4   GNI (current US$)                       1273 non-null   float64\n",
      " 5   CO2 emissions (metric tons per capita)  994 non-null    float64\n",
      " 6   HDI                                     1001 non-null   float64\n",
      " 7   GII (SCORE)                             1167 non-null   float64\n",
      "dtypes: float64(5), int64(1), object(2)\n",
      "memory usage: 80.6+ KB\n"
     ]
    }
   ],
   "source": [
    "# check the empty data and the datatypes\n",
    "df.info()"
   ]
  },
  {
   "cell_type": "code",
   "execution_count": 7,
   "metadata": {},
   "outputs": [],
   "source": [
    "df['GNI (current US$)_float'] = df['GNI (current US$)'].apply(lambda x: float(x))"
   ]
  },
  {
   "cell_type": "code",
   "execution_count": 8,
   "metadata": {},
   "outputs": [
    {
     "data": {
      "text/html": [
       "<div>\n",
       "<style scoped>\n",
       "    .dataframe tbody tr th:only-of-type {\n",
       "        vertical-align: middle;\n",
       "    }\n",
       "\n",
       "    .dataframe tbody tr th {\n",
       "        vertical-align: top;\n",
       "    }\n",
       "\n",
       "    .dataframe thead th {\n",
       "        text-align: right;\n",
       "    }\n",
       "</style>\n",
       "<table border=\"1\" class=\"dataframe\">\n",
       "  <thead>\n",
       "    <tr style=\"text-align: right;\">\n",
       "      <th></th>\n",
       "      <th>countrycode</th>\n",
       "      <th>country</th>\n",
       "      <th>year</th>\n",
       "      <th>GDP per capita (current US$)</th>\n",
       "      <th>GNI (current US$)</th>\n",
       "      <th>CO2 emissions (metric tons per capita)</th>\n",
       "      <th>HDI</th>\n",
       "      <th>GII (SCORE)</th>\n",
       "      <th>GNI (current US$)_float</th>\n",
       "    </tr>\n",
       "  </thead>\n",
       "  <tbody>\n",
       "    <tr>\n",
       "      <th>0</th>\n",
       "      <td>ALB</td>\n",
       "      <td>Albania</td>\n",
       "      <td>2013</td>\n",
       "      <td>4413.062005</td>\n",
       "      <td>1.299654e+10</td>\n",
       "      <td>1.533630</td>\n",
       "      <td>0.782</td>\n",
       "      <td>30.9</td>\n",
       "      <td>1.299654e+10</td>\n",
       "    </tr>\n",
       "    <tr>\n",
       "      <th>1</th>\n",
       "      <td>ALB</td>\n",
       "      <td>Albania</td>\n",
       "      <td>2014</td>\n",
       "      <td>4578.633208</td>\n",
       "      <td>1.334942e+10</td>\n",
       "      <td>1.668337</td>\n",
       "      <td>0.787</td>\n",
       "      <td>30.5</td>\n",
       "      <td>1.334942e+10</td>\n",
       "    </tr>\n",
       "    <tr>\n",
       "      <th>2</th>\n",
       "      <td>ALB</td>\n",
       "      <td>Albania</td>\n",
       "      <td>2015</td>\n",
       "      <td>3952.802538</td>\n",
       "      <td>1.152181e+10</td>\n",
       "      <td>1.603775</td>\n",
       "      <td>0.788</td>\n",
       "      <td>30.7</td>\n",
       "      <td>1.152181e+10</td>\n",
       "    </tr>\n",
       "    <tr>\n",
       "      <th>3</th>\n",
       "      <td>ALB</td>\n",
       "      <td>Albania</td>\n",
       "      <td>2016</td>\n",
       "      <td>4124.055390</td>\n",
       "      <td>1.205383e+10</td>\n",
       "      <td>1.557664</td>\n",
       "      <td>0.788</td>\n",
       "      <td>28.4</td>\n",
       "      <td>1.205383e+10</td>\n",
       "    </tr>\n",
       "    <tr>\n",
       "      <th>4</th>\n",
       "      <td>ALB</td>\n",
       "      <td>Albania</td>\n",
       "      <td>2017</td>\n",
       "      <td>4531.019374</td>\n",
       "      <td>1.305148e+10</td>\n",
       "      <td>1.788786</td>\n",
       "      <td>0.790</td>\n",
       "      <td>28.9</td>\n",
       "      <td>1.305148e+10</td>\n",
       "    </tr>\n",
       "  </tbody>\n",
       "</table>\n",
       "</div>"
      ],
      "text/plain": [
       "  countrycode  country  year  GDP per capita (current US$)  GNI (current US$)  \\\n",
       "0         ALB  Albania  2013                   4413.062005       1.299654e+10   \n",
       "1         ALB  Albania  2014                   4578.633208       1.334942e+10   \n",
       "2         ALB  Albania  2015                   3952.802538       1.152181e+10   \n",
       "3         ALB  Albania  2016                   4124.055390       1.205383e+10   \n",
       "4         ALB  Albania  2017                   4531.019374       1.305148e+10   \n",
       "\n",
       "   CO2 emissions (metric tons per capita)    HDI  GII (SCORE)  \\\n",
       "0                                1.533630  0.782         30.9   \n",
       "1                                1.668337  0.787         30.5   \n",
       "2                                1.603775  0.788         30.7   \n",
       "3                                1.557664  0.788         28.4   \n",
       "4                                1.788786  0.790         28.9   \n",
       "\n",
       "   GNI (current US$)_float  \n",
       "0             1.299654e+10  \n",
       "1             1.334942e+10  \n",
       "2             1.152181e+10  \n",
       "3             1.205383e+10  \n",
       "4             1.305148e+10  "
      ]
     },
     "execution_count": 8,
     "metadata": {},
     "output_type": "execute_result"
    }
   ],
   "source": [
    "df.head()"
   ]
  },
  {
   "cell_type": "code",
   "execution_count": 9,
   "metadata": {},
   "outputs": [],
   "source": [
    "df['GNI'] = df['GNI (current US$)_float']/1000000000000"
   ]
  },
  {
   "cell_type": "code",
   "execution_count": 11,
   "metadata": {},
   "outputs": [
    {
     "data": {
      "text/plain": [
       "<AxesSubplot:>"
      ]
     },
     "execution_count": 11,
     "metadata": {},
     "output_type": "execute_result"
    },
    {
     "data": {
      "image/png": "[encoded data removed]",
      "text/plain": [
       "<Figure size 1800x720 with 2 Axes>"
      ]
     },
     "metadata": {
      "needs_background": "light"
     },
     "output_type": "display_data"
    }
   ],
   "source": [
    "msno.matrix(df)"
   ]
  },
  {
   "cell_type": "code",
   "execution_count": 12,
   "metadata": {},
   "outputs": [
    {
     "data": {
      "text/plain": [
       "2013    143\n",
       "2014    143\n",
       "2015    143\n",
       "2016    143\n",
       "2017    143\n",
       "2018    143\n",
       "2019    143\n",
       "2020    143\n",
       "2021    143\n",
       "Name: year, dtype: int64"
      ]
     },
     "execution_count": 12,
     "metadata": {},
     "output_type": "execute_result"
    }
   ],
   "source": [
    "df.year.value_counts()"
   ]
  },
  {
   "cell_type": "code",
   "execution_count": 13,
   "metadata": {},
   "outputs": [
    {
     "data": {
      "text/plain": [
       "143"
      ]
     },
     "execution_count": 13,
     "metadata": {},
     "output_type": "execute_result"
    }
   ],
   "source": [
    "df.country.nunique()"
   ]
  },
  {
   "cell_type": "markdown",
   "metadata": {},
   "source": [
    "The number of countries is 143 and the number of data point for the year column for each year is 143"
   ]
  },
  {
   "cell_type": "code",
   "execution_count": 14,
   "metadata": {},
   "outputs": [
    {
     "data": {
      "text/html": [
       "<div>\n",
       "<style scoped>\n",
       "    .dataframe tbody tr th:only-of-type {\n",
       "        vertical-align: middle;\n",
       "    }\n",
       "\n",
       "    .dataframe tbody tr th {\n",
       "        vertical-align: top;\n",
       "    }\n",
       "\n",
       "    .dataframe thead th {\n",
       "        text-align: right;\n",
       "    }\n",
       "</style>\n",
       "<table border=\"1\" class=\"dataframe\">\n",
       "  <thead>\n",
       "    <tr style=\"text-align: right;\">\n",
       "      <th></th>\n",
       "      <th>year</th>\n",
       "      <th>GDP per capita (current US$)</th>\n",
       "      <th>GNI (current US$)</th>\n",
       "      <th>CO2 emissions (metric tons per capita)</th>\n",
       "      <th>HDI</th>\n",
       "      <th>GII (SCORE)</th>\n",
       "      <th>GNI (current US$)_float</th>\n",
       "      <th>GNI</th>\n",
       "    </tr>\n",
       "  </thead>\n",
       "  <tbody>\n",
       "    <tr>\n",
       "      <th>count</th>\n",
       "      <td>1287.000000</td>\n",
       "      <td>1280.000000</td>\n",
       "      <td>1.273000e+03</td>\n",
       "      <td>994.000000</td>\n",
       "      <td>1001.000000</td>\n",
       "      <td>1167.000000</td>\n",
       "      <td>1.273000e+03</td>\n",
       "      <td>1273.000000</td>\n",
       "    </tr>\n",
       "    <tr>\n",
       "      <th>mean</th>\n",
       "      <td>2017.000000</td>\n",
       "      <td>16327.867713</td>\n",
       "      <td>5.713797e+11</td>\n",
       "      <td>4.808728</td>\n",
       "      <td>0.742008</td>\n",
       "      <td>36.426135</td>\n",
       "      <td>5.713797e+11</td>\n",
       "      <td>0.571380</td>\n",
       "    </tr>\n",
       "    <tr>\n",
       "      <th>std</th>\n",
       "      <td>2.582993</td>\n",
       "      <td>21147.527406</td>\n",
       "      <td>2.091800e+12</td>\n",
       "      <td>5.287581</td>\n",
       "      <td>0.145132</td>\n",
       "      <td>11.883197</td>\n",
       "      <td>2.091800e+12</td>\n",
       "      <td>2.091800</td>\n",
       "    </tr>\n",
       "    <tr>\n",
       "      <th>min</th>\n",
       "      <td>2013.000000</td>\n",
       "      <td>223.862876</td>\n",
       "      <td>1.136239e+09</td>\n",
       "      <td>0.038601</td>\n",
       "      <td>0.357000</td>\n",
       "      <td>12.700000</td>\n",
       "      <td>1.136239e+09</td>\n",
       "      <td>0.001136</td>\n",
       "    </tr>\n",
       "    <tr>\n",
       "      <th>25%</th>\n",
       "      <td>2015.000000</td>\n",
       "      <td>2521.287598</td>\n",
       "      <td>1.656062e+10</td>\n",
       "      <td>1.058227</td>\n",
       "      <td>0.652000</td>\n",
       "      <td>27.400000</td>\n",
       "      <td>1.656062e+10</td>\n",
       "      <td>0.016561</td>\n",
       "    </tr>\n",
       "    <tr>\n",
       "      <th>50%</th>\n",
       "      <td>2017.000000</td>\n",
       "      <td>6604.441155</td>\n",
       "      <td>5.977622e+10</td>\n",
       "      <td>3.324678</td>\n",
       "      <td>0.766000</td>\n",
       "      <td>34.100000</td>\n",
       "      <td>5.977622e+10</td>\n",
       "      <td>0.059776</td>\n",
       "    </tr>\n",
       "    <tr>\n",
       "      <th>75%</th>\n",
       "      <td>2019.000000</td>\n",
       "      <td>20824.387947</td>\n",
       "      <td>3.285313e+11</td>\n",
       "      <td>6.473162</td>\n",
       "      <td>0.854000</td>\n",
       "      <td>44.250000</td>\n",
       "      <td>3.285313e+11</td>\n",
       "      <td>0.328531</td>\n",
       "    </tr>\n",
       "    <tr>\n",
       "      <th>max</th>\n",
       "      <td>2021.000000</td>\n",
       "      <td>135682.794275</td>\n",
       "      <td>2.339312e+13</td>\n",
       "      <td>33.205895</td>\n",
       "      <td>0.957000</td>\n",
       "      <td>68.400000</td>\n",
       "      <td>2.339312e+13</td>\n",
       "      <td>23.393117</td>\n",
       "    </tr>\n",
       "  </tbody>\n",
       "</table>\n",
       "</div>"
      ],
      "text/plain": [
       "              year  GDP per capita (current US$)  GNI (current US$)  \\\n",
       "count  1287.000000                   1280.000000       1.273000e+03   \n",
       "mean   2017.000000                  16327.867713       5.713797e+11   \n",
       "std       2.582993                  21147.527406       2.091800e+12   \n",
       "min    2013.000000                    223.862876       1.136239e+09   \n",
       "25%    2015.000000                   2521.287598       1.656062e+10   \n",
       "50%    2017.000000                   6604.441155       5.977622e+10   \n",
       "75%    2019.000000                  20824.387947       3.285313e+11   \n",
       "max    2021.000000                 135682.794275       2.339312e+13   \n",
       "\n",
       "       CO2 emissions (metric tons per capita)          HDI  GII (SCORE)  \\\n",
       "count                              994.000000  1001.000000  1167.000000   \n",
       "mean                                 4.808728     0.742008    36.426135   \n",
       "std                                  5.287581     0.145132    11.883197   \n",
       "min                                  0.038601     0.357000    12.700000   \n",
       "25%                                  1.058227     0.652000    27.400000   \n",
       "50%                                  3.324678     0.766000    34.100000   \n",
       "75%                                  6.473162     0.854000    44.250000   \n",
       "max                                 33.205895     0.957000    68.400000   \n",
       "\n",
       "       GNI (current US$)_float          GNI  \n",
       "count             1.273000e+03  1273.000000  \n",
       "mean              5.713797e+11     0.571380  \n",
       "std               2.091800e+12     2.091800  \n",
       "min               1.136239e+09     0.001136  \n",
       "25%               1.656062e+10     0.016561  \n",
       "50%               5.977622e+10     0.059776  \n",
       "75%               3.285313e+11     0.328531  \n",
       "max               2.339312e+13    23.393117  "
      ]
     },
     "execution_count": 14,
     "metadata": {},
     "output_type": "execute_result"
    }
   ],
   "source": [
    "df.describe()"
   ]
  },
  {
   "cell_type": "markdown",
   "metadata": {},
   "source": [
    "There is a large variation of the scale of the numbers in the differtent columns from fractions to large numbers of 11 and 12 digits\n",
    "\n",
    "The data should be normalized"
   ]
  },
  {
   "cell_type": "code",
   "execution_count": 15,
   "metadata": {},
   "outputs": [],
   "source": [
    "# drop the empty data \n",
    "df = df.dropna(axis = 0)"
   ]
  },
  {
   "cell_type": "code",
   "execution_count": 16,
   "metadata": {},
   "outputs": [
    {
     "data": {
      "text/plain": [
       "(905, 10)"
      ]
     },
     "execution_count": 16,
     "metadata": {},
     "output_type": "execute_result"
    }
   ],
   "source": [
    "df.shape"
   ]
  },
  {
   "cell_type": "code",
   "execution_count": 17,
   "metadata": {},
   "outputs": [
    {
     "data": {
      "text/plain": [
       "2014    138\n",
       "2013    136\n",
       "2015    136\n",
       "2016    125\n",
       "2017    125\n",
       "2018    123\n",
       "2019    122\n",
       "Name: year, dtype: int64"
      ]
     },
     "execution_count": 17,
     "metadata": {},
     "output_type": "execute_result"
    }
   ],
   "source": [
    "df.year.value_counts()"
   ]
  },
  {
   "cell_type": "code",
   "execution_count": 18,
   "metadata": {},
   "outputs": [
    {
     "data": {
      "text/plain": [
       "array([[<AxesSubplot:title={'center':'year'}>,\n",
       "        <AxesSubplot:title={'center':'GDP per capita (current US$)'}>,\n",
       "        <AxesSubplot:title={'center':'GNI (current US$)'}>],\n",
       "       [<AxesSubplot:title={'center':'CO2 emissions (metric tons per capita)'}>,\n",
       "        <AxesSubplot:title={'center':'HDI'}>,\n",
       "        <AxesSubplot:title={'center':'GII (SCORE)'}>],\n",
       "       [<AxesSubplot:title={'center':'GNI (current US$)_float'}>,\n",
       "        <AxesSubplot:title={'center':'GNI'}>, <AxesSubplot:>]],\n",
       "      dtype=object)"
      ]
     },
     "execution_count": 18,
     "metadata": {},
     "output_type": "execute_result"
    },
    {
     "data": {
      "image/png": "[encoded data removed]",
      "text/plain": [
       "<Figure size 1800x595.44 with 9 Axes>"
      ]
     },
     "metadata": {},
     "output_type": "display_data"
    }
   ],
   "source": [
    "sns.set(rc={'figure.figsize':(25,8.27)})\n",
    "df.hist()"
   ]
  },
  {
   "cell_type": "code",
   "execution_count": 23,
   "metadata": {},
   "outputs": [],
   "source": [
    "df_s = df[['country','year','GNI', 'HDI', 'GII (SCORE)', 'GDP per capita (current US$)', 'CO2 emissions (metric tons per capita)']]"
   ]
  },
  {
   "cell_type": "code",
   "execution_count": 24,
   "metadata": {},
   "outputs": [
    {
     "data": {
      "text/html": [
       "<div>\n",
       "<style scoped>\n",
       "    .dataframe tbody tr th:only-of-type {\n",
       "        vertical-align: middle;\n",
       "    }\n",
       "\n",
       "    .dataframe tbody tr th {\n",
       "        vertical-align: top;\n",
       "    }\n",
       "\n",
       "    .dataframe thead th {\n",
       "        text-align: right;\n",
       "    }\n",
       "</style>\n",
       "<table border=\"1\" class=\"dataframe\">\n",
       "  <thead>\n",
       "    <tr style=\"text-align: right;\">\n",
       "      <th></th>\n",
       "      <th>country</th>\n",
       "      <th>year</th>\n",
       "      <th>GNI</th>\n",
       "      <th>HDI</th>\n",
       "      <th>GII (SCORE)</th>\n",
       "      <th>GDP per capita (current US$)</th>\n",
       "      <th>CO2 emissions (metric tons per capita)</th>\n",
       "    </tr>\n",
       "  </thead>\n",
       "  <tbody>\n",
       "    <tr>\n",
       "      <th>0</th>\n",
       "      <td>Albania</td>\n",
       "      <td>2013</td>\n",
       "      <td>0.012997</td>\n",
       "      <td>0.782</td>\n",
       "      <td>30.9</td>\n",
       "      <td>4413.062005</td>\n",
       "      <td>1.533630</td>\n",
       "    </tr>\n",
       "    <tr>\n",
       "      <th>1</th>\n",
       "      <td>Albania</td>\n",
       "      <td>2014</td>\n",
       "      <td>0.013349</td>\n",
       "      <td>0.787</td>\n",
       "      <td>30.5</td>\n",
       "      <td>4578.633208</td>\n",
       "      <td>1.668337</td>\n",
       "    </tr>\n",
       "    <tr>\n",
       "      <th>2</th>\n",
       "      <td>Albania</td>\n",
       "      <td>2015</td>\n",
       "      <td>0.011522</td>\n",
       "      <td>0.788</td>\n",
       "      <td>30.7</td>\n",
       "      <td>3952.802538</td>\n",
       "      <td>1.603775</td>\n",
       "    </tr>\n",
       "    <tr>\n",
       "      <th>3</th>\n",
       "      <td>Albania</td>\n",
       "      <td>2016</td>\n",
       "      <td>0.012054</td>\n",
       "      <td>0.788</td>\n",
       "      <td>28.4</td>\n",
       "      <td>4124.055390</td>\n",
       "      <td>1.557664</td>\n",
       "    </tr>\n",
       "    <tr>\n",
       "      <th>4</th>\n",
       "      <td>Albania</td>\n",
       "      <td>2017</td>\n",
       "      <td>0.013051</td>\n",
       "      <td>0.790</td>\n",
       "      <td>28.9</td>\n",
       "      <td>4531.019374</td>\n",
       "      <td>1.788786</td>\n",
       "    </tr>\n",
       "    <tr>\n",
       "      <th>...</th>\n",
       "      <td>...</td>\n",
       "      <td>...</td>\n",
       "      <td>...</td>\n",
       "      <td>...</td>\n",
       "      <td>...</td>\n",
       "      <td>...</td>\n",
       "      <td>...</td>\n",
       "    </tr>\n",
       "    <tr>\n",
       "      <th>1280</th>\n",
       "      <td>Yemen</td>\n",
       "      <td>2015</td>\n",
       "      <td>0.041099</td>\n",
       "      <td>0.483</td>\n",
       "      <td>20.8</td>\n",
       "      <td>1601.807163</td>\n",
       "      <td>0.511362</td>\n",
       "    </tr>\n",
       "    <tr>\n",
       "      <th>1281</th>\n",
       "      <td>Yemen</td>\n",
       "      <td>2016</td>\n",
       "      <td>0.031254</td>\n",
       "      <td>0.474</td>\n",
       "      <td>14.6</td>\n",
       "      <td>1152.738019</td>\n",
       "      <td>0.399364</td>\n",
       "    </tr>\n",
       "    <tr>\n",
       "      <th>1282</th>\n",
       "      <td>Yemen</td>\n",
       "      <td>2017</td>\n",
       "      <td>0.026802</td>\n",
       "      <td>0.467</td>\n",
       "      <td>15.6</td>\n",
       "      <td>964.340344</td>\n",
       "      <td>0.359622</td>\n",
       "    </tr>\n",
       "    <tr>\n",
       "      <th>1283</th>\n",
       "      <td>Yemen</td>\n",
       "      <td>2018</td>\n",
       "      <td>0.021590</td>\n",
       "      <td>0.468</td>\n",
       "      <td>15.0</td>\n",
       "      <td>758.145949</td>\n",
       "      <td>0.341068</td>\n",
       "    </tr>\n",
       "    <tr>\n",
       "      <th>1284</th>\n",
       "      <td>Yemen</td>\n",
       "      <td>2019</td>\n",
       "      <td>0.021870</td>\n",
       "      <td>0.470</td>\n",
       "      <td>14.5</td>\n",
       "      <td>750.554583</td>\n",
       "      <td>0.380633</td>\n",
       "    </tr>\n",
       "  </tbody>\n",
       "</table>\n",
       "<p>905 rows × 7 columns</p>\n",
       "</div>"
      ],
      "text/plain": [
       "      country  year       GNI    HDI  GII (SCORE)  \\\n",
       "0     Albania  2013  0.012997  0.782         30.9   \n",
       "1     Albania  2014  0.013349  0.787         30.5   \n",
       "2     Albania  2015  0.011522  0.788         30.7   \n",
       "3     Albania  2016  0.012054  0.788         28.4   \n",
       "4     Albania  2017  0.013051  0.790         28.9   \n",
       "...       ...   ...       ...    ...          ...   \n",
       "1280    Yemen  2015  0.041099  0.483         20.8   \n",
       "1281    Yemen  2016  0.031254  0.474         14.6   \n",
       "1282    Yemen  2017  0.026802  0.467         15.6   \n",
       "1283    Yemen  2018  0.021590  0.468         15.0   \n",
       "1284    Yemen  2019  0.021870  0.470         14.5   \n",
       "\n",
       "      GDP per capita (current US$)  CO2 emissions (metric tons per capita)  \n",
       "0                      4413.062005                                1.533630  \n",
       "1                      4578.633208                                1.668337  \n",
       "2                      3952.802538                                1.603775  \n",
       "3                      4124.055390                                1.557664  \n",
       "4                      4531.019374                                1.788786  \n",
       "...                            ...                                     ...  \n",
       "1280                   1601.807163                                0.511362  \n",
       "1281                   1152.738019                                0.399364  \n",
       "1282                    964.340344                                0.359622  \n",
       "1283                    758.145949                                0.341068  \n",
       "1284                    750.554583                                0.380633  \n",
       "\n",
       "[905 rows x 7 columns]"
      ]
     },
     "execution_count": 24,
     "metadata": {},
     "output_type": "execute_result"
    }
   ],
   "source": [
    "df_s"
   ]
  },
  {
   "cell_type": "code",
   "execution_count": 45,
   "metadata": {},
   "outputs": [],
   "source": [
    "## working out slicing hthe dataframe on a year then normalizing the data and returing the resulting dataframe\n",
    "from scipy.stats import zscore\n",
    "df_year = df[df_s['year']== 2013]\n",
    "df_year_ = df_year[['GNI', 'HDI', 'GII (SCORE)', 'GDP per capita (current US$)', 'CO2 emissions (metric tons per capita)']]\n",
    "df_year_norm = df_year_.apply(zscore)\n",
    "df_year_norm = pd.concat([df_year[['country', 'year']],df_year_norm], axis = 1)"
   ]
  },
  {
   "cell_type": "code",
   "execution_count": 46,
   "metadata": {},
   "outputs": [
    {
     "data": {
      "text/html": [
       "<div>\n",
       "<style scoped>\n",
       "    .dataframe tbody tr th:only-of-type {\n",
       "        vertical-align: middle;\n",
       "    }\n",
       "\n",
       "    .dataframe tbody tr th {\n",
       "        vertical-align: top;\n",
       "    }\n",
       "\n",
       "    .dataframe thead th {\n",
       "        text-align: right;\n",
       "    }\n",
       "</style>\n",
       "<table border=\"1\" class=\"dataframe\">\n",
       "  <thead>\n",
       "    <tr style=\"text-align: right;\">\n",
       "      <th></th>\n",
       "      <th>country</th>\n",
       "      <th>year</th>\n",
       "      <th>GNI</th>\n",
       "      <th>HDI</th>\n",
       "      <th>GII (SCORE)</th>\n",
       "      <th>GDP per capita (current US$)</th>\n",
       "      <th>CO2 emissions (metric tons per capita)</th>\n",
       "    </tr>\n",
       "  </thead>\n",
       "  <tbody>\n",
       "    <tr>\n",
       "      <th>0</th>\n",
       "      <td>Albania</td>\n",
       "      <td>2013</td>\n",
       "      <td>-0.300751</td>\n",
       "      <td>0.331237</td>\n",
       "      <td>-0.610107</td>\n",
       "      <td>-0.572250</td>\n",
       "      <td>-0.633921</td>\n",
       "    </tr>\n",
       "    <tr>\n",
       "      <th>9</th>\n",
       "      <td>Algeria</td>\n",
       "      <td>2013</td>\n",
       "      <td>-0.193755</td>\n",
       "      <td>-0.033164</td>\n",
       "      <td>-1.320614</td>\n",
       "      <td>-0.523331</td>\n",
       "      <td>-0.259868</td>\n",
       "    </tr>\n",
       "    <tr>\n",
       "      <th>18</th>\n",
       "      <td>Angola</td>\n",
       "      <td>2013</td>\n",
       "      <td>-0.239230</td>\n",
       "      <td>-1.229500</td>\n",
       "      <td>-1.284178</td>\n",
       "      <td>-0.540074</td>\n",
       "      <td>-0.722031</td>\n",
       "    </tr>\n",
       "    <tr>\n",
       "      <th>27</th>\n",
       "      <td>Argentina</td>\n",
       "      <td>2013</td>\n",
       "      <td>-0.007884</td>\n",
       "      <td>0.695638</td>\n",
       "      <td>0.009310</td>\n",
       "      <td>-0.182026</td>\n",
       "      <td>-0.136361</td>\n",
       "    </tr>\n",
       "    <tr>\n",
       "      <th>36</th>\n",
       "      <td>Armenia</td>\n",
       "      <td>2013</td>\n",
       "      <td>-0.301414</td>\n",
       "      <td>0.193727</td>\n",
       "      <td>0.000201</td>\n",
       "      <td>-0.598133</td>\n",
       "      <td>-0.569346</td>\n",
       "    </tr>\n",
       "  </tbody>\n",
       "</table>\n",
       "</div>"
      ],
      "text/plain": [
       "      country  year       GNI       HDI  GII (SCORE)  \\\n",
       "0     Albania  2013 -0.300751  0.331237    -0.610107   \n",
       "9     Algeria  2013 -0.193755 -0.033164    -1.320614   \n",
       "18     Angola  2013 -0.239230 -1.229500    -1.284178   \n",
       "27  Argentina  2013 -0.007884  0.695638     0.009310   \n",
       "36    Armenia  2013 -0.301414  0.193727     0.000201   \n",
       "\n",
       "    GDP per capita (current US$)  CO2 emissions (metric tons per capita)  \n",
       "0                      -0.572250                               -0.633921  \n",
       "9                      -0.523331                               -0.259868  \n",
       "18                     -0.540074                               -0.722031  \n",
       "27                     -0.182026                               -0.136361  \n",
       "36                     -0.598133                               -0.569346  "
      ]
     },
     "execution_count": 46,
     "metadata": {},
     "output_type": "execute_result"
    }
   ],
   "source": [
    "df_year_norm.head()"
   ]
  },
  {
   "cell_type": "code",
   "execution_count": 52,
   "metadata": {},
   "outputs": [],
   "source": [
    "## Normalize the dataframe for each year\n",
    "from scipy.stats import zscore\n",
    "\n",
    "## working out slicing hthe dataframe on a year then normalizing the data and returing the resulting dataframe\n",
    "df_year = df[df_s['year']== 2013]\n",
    "df_year_ = df_year[['GNI', 'HDI', 'GII (SCORE)', 'GDP per capita (current US$)', 'CO2 emissions (metric tons per capita)']]\n",
    "df_year_norm = df_year_.apply(zscore)\n",
    "df_2013_norm = pd.concat([df_year[['country', 'year']],df_year_norm], axis = 1)"
   ]
  },
  {
   "cell_type": "code",
   "execution_count": 54,
   "metadata": {},
   "outputs": [],
   "source": [
    "## working out slicing hthe dataframe on a year then normalizing the data and returing the resulting dataframe\n",
    "df_year = df[df_s['year']== 2014]\n",
    "df_year_ = df_year[['GNI', 'HDI', 'GII (SCORE)', 'GDP per capita (current US$)', 'CO2 emissions (metric tons per capita)']]\n",
    "df_year_norm = df_year_.apply(zscore)\n",
    "df_2014_norm = pd.concat([df_year[['country', 'year']],df_year_norm], axis = 1)"
   ]
  },
  {
   "cell_type": "code",
   "execution_count": 56,
   "metadata": {},
   "outputs": [],
   "source": [
    "## working out slicing hthe dataframe on a year then normalizing the data and returing the resulting dataframe\n",
    "df_year = df[df_s['year']== 2015]\n",
    "df_year_ = df_year[['GNI', 'HDI', 'GII (SCORE)', 'GDP per capita (current US$)', 'CO2 emissions (metric tons per capita)']]\n",
    "df_year_norm = df_year_.apply(zscore)\n",
    "df_2015_norm = pd.concat([df_year[['country', 'year']],df_year_norm], axis = 1)"
   ]
  },
  {
   "cell_type": "code",
   "execution_count": 57,
   "metadata": {},
   "outputs": [],
   "source": [
    "df_year = df[df_s['year']== 2016]\n",
    "df_year_ = df_year[['GNI', 'HDI', 'GII (SCORE)', 'GDP per capita (current US$)', 'CO2 emissions (metric tons per capita)']]\n",
    "df_year_norm = df_year_.apply(zscore)\n",
    "df_2016_norm = pd.concat([df_year[['country', 'year']],df_year_norm], axis = 1)"
   ]
  },
  {
   "cell_type": "code",
   "execution_count": 58,
   "metadata": {},
   "outputs": [],
   "source": [
    "df_year = df[df_s['year']== 2017]\n",
    "df_year_ = df_year[['GNI', 'HDI', 'GII (SCORE)', 'GDP per capita (current US$)', 'CO2 emissions (metric tons per capita)']]\n",
    "df_year_norm = df_year_.apply(zscore)\n",
    "df_2017_norm = pd.concat([df_year[['country', 'year']],df_year_norm], axis = 1)"
   ]
  },
  {
   "cell_type": "code",
   "execution_count": 59,
   "metadata": {},
   "outputs": [],
   "source": [
    "df_year = df[df_s['year']== 2018]\n",
    "df_year_ = df_year[['GNI', 'HDI', 'GII (SCORE)', 'GDP per capita (current US$)', 'CO2 emissions (metric tons per capita)']]\n",
    "df_year_norm = df_year_.apply(zscore)\n",
    "df_2018_norm = pd.concat([df_year[['country', 'year']],df_year_norm], axis = 1)"
   ]
  },
  {
   "cell_type": "code",
   "execution_count": 60,
   "metadata": {},
   "outputs": [],
   "source": [
    "df_year = df[df_s['year']== 2019]\n",
    "df_year_ = df_year[['GNI', 'HDI', 'GII (SCORE)', 'GDP per capita (current US$)', 'CO2 emissions (metric tons per capita)']]\n",
    "df_year_norm = df_year_.apply(zscore)\n",
    "df_2019_norm = pd.concat([df_year[['country', 'year']],df_year_norm], axis = 1)"
   ]
  },
  {
   "cell_type": "code",
   "execution_count": 61,
   "metadata": {},
   "outputs": [],
   "source": [
    "# final dataframe that has normalized data for each year \n",
    "\n",
    "df_s_n = pd.concat([df_2013_norm, df_2014_norm, df_2015_norm, df_2016_norm, df_2017_norm, df_2018_norm, df_2019_norm], axis = 0)"
   ]
  },
  {
   "cell_type": "code",
   "execution_count": 62,
   "metadata": {},
   "outputs": [
    {
     "data": {
      "text/html": [
       "<div>\n",
       "<style scoped>\n",
       "    .dataframe tbody tr th:only-of-type {\n",
       "        vertical-align: middle;\n",
       "    }\n",
       "\n",
       "    .dataframe tbody tr th {\n",
       "        vertical-align: top;\n",
       "    }\n",
       "\n",
       "    .dataframe thead th {\n",
       "        text-align: right;\n",
       "    }\n",
       "</style>\n",
       "<table border=\"1\" class=\"dataframe\">\n",
       "  <thead>\n",
       "    <tr style=\"text-align: right;\">\n",
       "      <th></th>\n",
       "      <th>country</th>\n",
       "      <th>year</th>\n",
       "      <th>GNI</th>\n",
       "      <th>HDI</th>\n",
       "      <th>GII (SCORE)</th>\n",
       "      <th>GDP per capita (current US$)</th>\n",
       "      <th>CO2 emissions (metric tons per capita)</th>\n",
       "    </tr>\n",
       "  </thead>\n",
       "  <tbody>\n",
       "    <tr>\n",
       "      <th>0</th>\n",
       "      <td>Albania</td>\n",
       "      <td>2013</td>\n",
       "      <td>-0.300751</td>\n",
       "      <td>0.331237</td>\n",
       "      <td>-0.610107</td>\n",
       "      <td>-0.572250</td>\n",
       "      <td>-0.633921</td>\n",
       "    </tr>\n",
       "    <tr>\n",
       "      <th>9</th>\n",
       "      <td>Algeria</td>\n",
       "      <td>2013</td>\n",
       "      <td>-0.193755</td>\n",
       "      <td>-0.033164</td>\n",
       "      <td>-1.320614</td>\n",
       "      <td>-0.523331</td>\n",
       "      <td>-0.259868</td>\n",
       "    </tr>\n",
       "    <tr>\n",
       "      <th>18</th>\n",
       "      <td>Angola</td>\n",
       "      <td>2013</td>\n",
       "      <td>-0.239230</td>\n",
       "      <td>-1.229500</td>\n",
       "      <td>-1.284178</td>\n",
       "      <td>-0.540074</td>\n",
       "      <td>-0.722031</td>\n",
       "    </tr>\n",
       "    <tr>\n",
       "      <th>27</th>\n",
       "      <td>Argentina</td>\n",
       "      <td>2013</td>\n",
       "      <td>-0.007884</td>\n",
       "      <td>0.695638</td>\n",
       "      <td>0.009310</td>\n",
       "      <td>-0.182026</td>\n",
       "      <td>-0.136361</td>\n",
       "    </tr>\n",
       "    <tr>\n",
       "      <th>36</th>\n",
       "      <td>Armenia</td>\n",
       "      <td>2013</td>\n",
       "      <td>-0.301414</td>\n",
       "      <td>0.193727</td>\n",
       "      <td>0.000201</td>\n",
       "      <td>-0.598133</td>\n",
       "      <td>-0.569346</td>\n",
       "    </tr>\n",
       "  </tbody>\n",
       "</table>\n",
       "</div>"
      ],
      "text/plain": [
       "      country  year       GNI       HDI  GII (SCORE)  \\\n",
       "0     Albania  2013 -0.300751  0.331237    -0.610107   \n",
       "9     Algeria  2013 -0.193755 -0.033164    -1.320614   \n",
       "18     Angola  2013 -0.239230 -1.229500    -1.284178   \n",
       "27  Argentina  2013 -0.007884  0.695638     0.009310   \n",
       "36    Armenia  2013 -0.301414  0.193727     0.000201   \n",
       "\n",
       "    GDP per capita (current US$)  CO2 emissions (metric tons per capita)  \n",
       "0                      -0.572250                               -0.633921  \n",
       "9                      -0.523331                               -0.259868  \n",
       "18                     -0.540074                               -0.722031  \n",
       "27                     -0.182026                               -0.136361  \n",
       "36                     -0.598133                               -0.569346  "
      ]
     },
     "execution_count": 62,
     "metadata": {},
     "output_type": "execute_result"
    }
   ],
   "source": [
    "df_s_n.head()"
   ]
  },
  {
   "cell_type": "code",
   "execution_count": 63,
   "metadata": {},
   "outputs": [
    {
     "data": {
      "text/html": [
       "<div>\n",
       "<style scoped>\n",
       "    .dataframe tbody tr th:only-of-type {\n",
       "        vertical-align: middle;\n",
       "    }\n",
       "\n",
       "    .dataframe tbody tr th {\n",
       "        vertical-align: top;\n",
       "    }\n",
       "\n",
       "    .dataframe thead th {\n",
       "        text-align: right;\n",
       "    }\n",
       "</style>\n",
       "<table border=\"1\" class=\"dataframe\">\n",
       "  <thead>\n",
       "    <tr style=\"text-align: right;\">\n",
       "      <th></th>\n",
       "      <th>year</th>\n",
       "      <th>GNI</th>\n",
       "      <th>HDI</th>\n",
       "      <th>GII (SCORE)</th>\n",
       "      <th>GDP per capita (current US$)</th>\n",
       "      <th>CO2 emissions (metric tons per capita)</th>\n",
       "    </tr>\n",
       "  </thead>\n",
       "  <tbody>\n",
       "    <tr>\n",
       "      <th>count</th>\n",
       "      <td>905.000000</td>\n",
       "      <td>9.050000e+02</td>\n",
       "      <td>9.050000e+02</td>\n",
       "      <td>9.050000e+02</td>\n",
       "      <td>9.050000e+02</td>\n",
       "      <td>9.050000e+02</td>\n",
       "    </tr>\n",
       "    <tr>\n",
       "      <th>mean</th>\n",
       "      <td>2015.908287</td>\n",
       "      <td>2.600743e-17</td>\n",
       "      <td>-3.434944e-17</td>\n",
       "      <td>7.851301e-18</td>\n",
       "      <td>5.949814e-17</td>\n",
       "      <td>1.987361e-17</td>\n",
       "    </tr>\n",
       "    <tr>\n",
       "      <th>std</th>\n",
       "      <td>2.000937</td>\n",
       "      <td>1.000553e+00</td>\n",
       "      <td>1.000553e+00</td>\n",
       "      <td>1.000553e+00</td>\n",
       "      <td>1.000553e+00</td>\n",
       "      <td>1.000553e+00</td>\n",
       "    </tr>\n",
       "    <tr>\n",
       "      <th>min</th>\n",
       "      <td>2013.000000</td>\n",
       "      <td>-3.071584e-01</td>\n",
       "      <td>-2.621271e+00</td>\n",
       "      <td>-2.179942e+00</td>\n",
       "      <td>-8.047170e-01</td>\n",
       "      <td>-9.669786e-01</td>\n",
       "    </tr>\n",
       "    <tr>\n",
       "      <th>25%</th>\n",
       "      <td>2014.000000</td>\n",
       "      <td>-2.786514e-01</td>\n",
       "      <td>-6.059971e-01</td>\n",
       "      <td>-7.606463e-01</td>\n",
       "      <td>-6.635995e-01</td>\n",
       "      <td>-7.169535e-01</td>\n",
       "    </tr>\n",
       "    <tr>\n",
       "      <th>50%</th>\n",
       "      <td>2016.000000</td>\n",
       "      <td>-2.534876e-01</td>\n",
       "      <td>1.593497e-01</td>\n",
       "      <td>-1.894568e-01</td>\n",
       "      <td>-4.601561e-01</td>\n",
       "      <td>-2.582387e-01</td>\n",
       "    </tr>\n",
       "    <tr>\n",
       "      <th>75%</th>\n",
       "      <td>2018.000000</td>\n",
       "      <td>-1.273691e-01</td>\n",
       "      <td>7.787935e-01</td>\n",
       "      <td>6.300628e-01</td>\n",
       "      <td>2.701070e-01</td>\n",
       "      <td>3.332574e-01</td>\n",
       "    </tr>\n",
       "    <tr>\n",
       "      <th>max</th>\n",
       "      <td>2019.000000</td>\n",
       "      <td>9.398657e+00</td>\n",
       "      <td>1.458818e+00</td>\n",
       "      <td>2.689673e+00</td>\n",
       "      <td>4.812473e+00</td>\n",
       "      <td>5.433745e+00</td>\n",
       "    </tr>\n",
       "  </tbody>\n",
       "</table>\n",
       "</div>"
      ],
      "text/plain": [
       "              year           GNI           HDI   GII (SCORE)  \\\n",
       "count   905.000000  9.050000e+02  9.050000e+02  9.050000e+02   \n",
       "mean   2015.908287  2.600743e-17 -3.434944e-17  7.851301e-18   \n",
       "std       2.000937  1.000553e+00  1.000553e+00  1.000553e+00   \n",
       "min    2013.000000 -3.071584e-01 -2.621271e+00 -2.179942e+00   \n",
       "25%    2014.000000 -2.786514e-01 -6.059971e-01 -7.606463e-01   \n",
       "50%    2016.000000 -2.534876e-01  1.593497e-01 -1.894568e-01   \n",
       "75%    2018.000000 -1.273691e-01  7.787935e-01  6.300628e-01   \n",
       "max    2019.000000  9.398657e+00  1.458818e+00  2.689673e+00   \n",
       "\n",
       "       GDP per capita (current US$)  CO2 emissions (metric tons per capita)  \n",
       "count                  9.050000e+02                            9.050000e+02  \n",
       "mean                   5.949814e-17                            1.987361e-17  \n",
       "std                    1.000553e+00                            1.000553e+00  \n",
       "min                   -8.047170e-01                           -9.669786e-01  \n",
       "25%                   -6.635995e-01                           -7.169535e-01  \n",
       "50%                   -4.601561e-01                           -2.582387e-01  \n",
       "75%                    2.701070e-01                            3.332574e-01  \n",
       "max                    4.812473e+00                            5.433745e+00  "
      ]
     },
     "execution_count": 63,
     "metadata": {},
     "output_type": "execute_result"
    }
   ],
   "source": [
    "df_s_n.describe()"
   ]
  },
  {
   "cell_type": "code",
   "execution_count": 64,
   "metadata": {},
   "outputs": [
    {
     "data": {
      "text/plain": [
       "<AxesSubplot:>"
      ]
     },
     "execution_count": 64,
     "metadata": {},
     "output_type": "execute_result"
    },
    {
     "data": {
      "image/png": "[encoded data removed]",
      "text/plain": [
       "<Figure size 1800x720 with 2 Axes>"
      ]
     },
     "metadata": {},
     "output_type": "display_data"
    }
   ],
   "source": [
    "msno.matrix(df_s_n)"
   ]
  },
  {
   "cell_type": "code",
   "execution_count": 66,
   "metadata": {},
   "outputs": [
    {
     "data": {
      "text/plain": [
       "2014    138\n",
       "2013    136\n",
       "2015    136\n",
       "2016    125\n",
       "2017    125\n",
       "2018    123\n",
       "2019    122\n",
       "Name: year, dtype: int64"
      ]
     },
     "execution_count": 66,
     "metadata": {},
     "output_type": "execute_result"
    }
   ],
   "source": [
    "df_s_n.year.value_counts()"
   ]
  },
  {
   "cell_type": "code",
   "execution_count": 69,
   "metadata": {},
   "outputs": [
    {
     "data": {
      "text/plain": [
       "'\\nhttps://dspyt.com/panel-data-econometrics-an-introduction-with-an-example-in-python/\\n\\n\\nhttps://dspyt.com/panel-data-econometrics-an-introduction-with-an-example-in-python/\\n\\n\\nhttps://bashtage.github.io/linearmodels/panel/examples/examples.html\\n'"
      ]
     },
     "execution_count": 69,
     "metadata": {},
     "output_type": "execute_result"
    }
   ],
   "source": [
    "\"\"\"\n",
    "https://dspyt.com/panel-data-econometrics-an-introduction-with-an-example-in-python/\n",
    "\n",
    "\n",
    "https://dspyt.com/panel-data-econometrics-an-introduction-with-an-example-in-python/\n",
    "\n",
    "\n",
    "https://bashtage.github.io/linearmodels/panel/examples/examples.html\n",
    "\"\"\""
   ]
  },
  {
   "cell_type": "code",
   "execution_count": 68,
   "metadata": {},
   "outputs": [],
   "source": [
    "df_s_n.to_csv('cleaned_dataset_normalized_annually.csv')"
   ]
  },
  {
   "cell_type": "markdown",
   "metadata": {},
   "source": [
    "<a id='eda'></a>\n",
    "## Exploratory Data Analysis\n",
    "\n",
    "> **Tip**: Now that you've trimmed and cleaned your data, you're ready to move on to exploration. Compute statistics and create visualizations with the goal of addressing the research questions that you posed in the Introduction section. It is recommended that you be systematic with your approach. Look at one variable at a time, and then follow it up by looking at relationships between variables.\n",
    "\n",
    "### Research Question 1 (Replace this header name!)"
   ]
  },
  {
   "cell_type": "code",
   "execution_count": null,
   "metadata": {
    "collapsed": true
   },
   "outputs": [],
   "source": [
    "# Use this, and more code cells, to explore your data. Don't forget to add\n",
    "#   Markdown cells to document your observations and findings.\n"
   ]
  },
  {
   "cell_type": "markdown",
   "metadata": {},
   "source": [
    "### Research Question 2  (Replace this header name!)"
   ]
  },
  {
   "cell_type": "code",
   "execution_count": null,
   "metadata": {
    "collapsed": true
   },
   "outputs": [],
   "source": [
    "# Continue to explore the data to address your additional research\n",
    "#   questions. Add more headers as needed if you have more questions to\n",
    "#   investigate.\n"
   ]
  },
  {
   "cell_type": "markdown",
   "metadata": {},
   "source": [
    "<a id='conclusions'></a>\n",
    "## Conclusions\n",
    "\n",
    "> **Tip**: Finally, summarize your findings and the results that have been performed. Make sure that you are clear with regards to the limitations of your exploration. If you haven't done any statistical tests, do not imply any statistical conclusions. And make sure you avoid implying causation from correlation!\n",
    "\n",
    "> **Tip**: Once you are satisfied with your work, you should save a copy of the report in HTML or PDF form via the **File** > **Download as** submenu. Before exporting your report, check over it to make sure that the flow of the report is complete. You should probably remove all of the \"Tip\" quotes like this one so that the presentation is as tidy as possible. Congratulations!"
   ]
  },
  {
   "cell_type": "code",
   "execution_count": null,
   "metadata": {
    "collapsed": true
   },
   "outputs": [],
   "source": []
  }
 ],
 "metadata": {
  "kernelspec": {
   "display_name": "Python 3.9.7 ('base')",
   "language": "python",
   "name": "python3"
  },
  "language_info": {
   "codemirror_mode": {
    "name": "ipython",
    "version": 3
   },
   "file_extension": ".py",
   "mimetype": "text/x-python",
   "name": "python",
   "nbconvert_exporter": "python",
   "pygments_lexer": "ipython3",
   "version": "3.9.7"
  },
  "vscode": {
   "interpreter": {
    "hash": "f5e4c46318256eeaceb6bec36dbb0465a8ba87147568cfd2b1edafcd3a277050"
   }
  }
 },
 "nbformat": 4,
 "nbformat_minor": 2
}
